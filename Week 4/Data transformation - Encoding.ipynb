{
 "cells": [
  {
   "cell_type": "code",
   "execution_count": 6,
   "id": "2fe6481b",
   "metadata": {},
   "outputs": [],
   "source": [
    "from sklearn.impute import SimpleImputer"
   ]
  },
  {
   "cell_type": "code",
   "execution_count": 4,
   "id": "3f7bf3a6",
   "metadata": {},
   "outputs": [],
   "source": [
    "import pandas as pd"
   ]
  },
  {
   "cell_type": "code",
   "execution_count": 5,
   "id": "043df675",
   "metadata": {},
   "outputs": [],
   "source": [
    "from numpy import array\n",
    "from sklearn.preprocessing import LabelEncoder, OneHotEncoder"
   ]
  },
  {
   "cell_type": "code",
   "execution_count": 7,
   "id": "565b4960",
   "metadata": {},
   "outputs": [],
   "source": [
    "# example data\n",
    "data = ['warm', 'hot', 'cold', 'luke warm', 'hot', 'cold', 'warm']"
   ]
  },
  {
   "cell_type": "code",
   "execution_count": 8,
   "id": "963e6f34",
   "metadata": {},
   "outputs": [],
   "source": [
    "# converting to numeric form for computation\n",
    "label_encoder = LabelEncoder()\n",
    "integer_encoded = label_encoder.fit_transform(data)"
   ]
  },
  {
   "cell_type": "code",
   "execution_count": 9,
   "id": "711729a7",
   "metadata": {},
   "outputs": [
    {
     "data": {
      "text/plain": [
       "array([3, 1, 0, 2, 1, 0, 3])"
      ]
     },
     "execution_count": 9,
     "metadata": {},
     "output_type": "execute_result"
    }
   ],
   "source": [
    "integer_encoded\n",
    "\n",
    "# Output: array([3, 1, 0, 2, 1, 0, 3]), where 3 = warm, 1 = hot, ..."
   ]
  },
  {
   "cell_type": "code",
   "execution_count": 10,
   "id": "2e2d8d54",
   "metadata": {},
   "outputs": [
    {
     "name": "stdout",
     "output_type": "stream",
     "text": [
      "cold\n"
     ]
    }
   ],
   "source": [
    "inverted = label_encoder.inverse_transform(integer_encoded)[2]\n",
    "print(inverted)"
   ]
  },
  {
   "cell_type": "code",
   "execution_count": 14,
   "id": "9ec9dd3f",
   "metadata": {},
   "outputs": [],
   "source": [
    "onehot_encoder = OneHotEncoder(sparse_output=False)\n",
    "integer_encoded = integer_encoded.reshape(len(integer_encoded), 1) # reshapes array to matrix"
   ]
  },
  {
   "cell_type": "code",
   "execution_count": 15,
   "id": "d49a9aec",
   "metadata": {},
   "outputs": [
    {
     "data": {
      "text/plain": [
       "array([[3],\n",
       "       [1],\n",
       "       [0],\n",
       "       [2],\n",
       "       [1],\n",
       "       [0],\n",
       "       [3]])"
      ]
     },
     "execution_count": 15,
     "metadata": {},
     "output_type": "execute_result"
    }
   ],
   "source": [
    "integer_encoded"
   ]
  },
  {
   "cell_type": "code",
   "execution_count": 16,
   "id": "caaa4ca7",
   "metadata": {},
   "outputs": [],
   "source": [
    "# Using One Hot encoder\n",
    "# One hot encoding creates an identity matrix\n",
    "# One hot encoding - used when encoding independent variables\n",
    "\n",
    "onehot_encoded = onehot_encoder.fit_transform(integer_encoded)"
   ]
  },
  {
   "cell_type": "code",
   "execution_count": 17,
   "id": "6c261a91",
   "metadata": {},
   "outputs": [
    {
     "data": {
      "text/plain": [
       "array([[0., 0., 0., 1.],\n",
       "       [0., 1., 0., 0.],\n",
       "       [1., 0., 0., 0.],\n",
       "       [0., 0., 1., 0.],\n",
       "       [0., 1., 0., 0.],\n",
       "       [1., 0., 0., 0.],\n",
       "       [0., 0., 0., 1.]])"
      ]
     },
     "execution_count": 17,
     "metadata": {},
     "output_type": "execute_result"
    }
   ],
   "source": [
    "onehot_encoded"
   ]
  },
  {
   "cell_type": "code",
   "execution_count": 22,
   "id": "ae0e2f0b",
   "metadata": {},
   "outputs": [],
   "source": [
    "import numpy as np"
   ]
  },
  {
   "cell_type": "code",
   "execution_count": 26,
   "id": "7bba3ec8",
   "metadata": {},
   "outputs": [],
   "source": [
    "# [3, :] - means row number 3, and all columns\n",
    "# [0, :] - means row number 0, and all columns\n",
    "\n",
    "inverted = label_encoder.inverse_transform([np.argmax(onehot_encoded[1, :])])"
   ]
  },
  {
   "cell_type": "code",
   "execution_count": 27,
   "id": "f7881d80",
   "metadata": {},
   "outputs": [
    {
     "data": {
      "text/plain": [
       "array(['hot'], dtype='<U9')"
      ]
     },
     "execution_count": 27,
     "metadata": {},
     "output_type": "execute_result"
    }
   ],
   "source": [
    "inverted"
   ]
  },
  {
   "cell_type": "code",
   "execution_count": null,
   "id": "c90e0056",
   "metadata": {},
   "outputs": [],
   "source": []
  }
 ],
 "metadata": {
  "kernelspec": {
   "display_name": "Python 3 (ipykernel)",
   "language": "python",
   "name": "python3"
  },
  "language_info": {
   "codemirror_mode": {
    "name": "ipython",
    "version": 3
   },
   "file_extension": ".py",
   "mimetype": "text/x-python",
   "name": "python",
   "nbconvert_exporter": "python",
   "pygments_lexer": "ipython3",
   "version": "3.10.9"
  }
 },
 "nbformat": 4,
 "nbformat_minor": 5
}
