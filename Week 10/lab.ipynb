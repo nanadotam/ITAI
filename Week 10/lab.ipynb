{
 "cells": [
  {
   "cell_type": "markdown",
   "metadata": {},
   "source": [
    "# Hybrid AI Approach to Customer Segmentation and Sales Prediction"
   ]
  },
  {
   "cell_type": "markdown",
   "metadata": {},
   "source": [
    "## Import Modules"
   ]
  },
  {
   "cell_type": "code",
   "execution_count": 122,
   "metadata": {},
   "outputs": [],
   "source": [
    "import pandas as pd\n",
    "from sklearn.preprocessing import StandardScaler, LabelEncoder  \n",
    "from sklearn.model_selection import train_test_split\n",
    "from sklearn.cluster import KMeans\n",
    "import matplotlib.pyplot as plt\n",
    "import seaborn as sns\n",
    "from sklearn.metrics import silhouette_score, calinski_harabasz_score, adjusted_rand_score\n",
    "import numpy as np\n",
    "from sklearn.linear_model import LinearRegression\n",
    "from xgboost import XGBRegressor\n",
    "from sklearn.ensemble import RandomForestRegressor\n",
    "from sklearn.metrics import mean_absolute_error, r2_score, mean_squared_error\n",
    "from sklearn.ensemble import VotingRegressor\n"
   ]
  },
  {
   "cell_type": "markdown",
   "metadata": {},
   "source": [
    "# Data Preprocessing"
   ]
  },
  {
   "cell_type": "markdown",
   "metadata": {},
   "source": [
    "## Load the Dataset"
   ]
  },
  {
   "cell_type": "code",
   "execution_count": 123,
   "metadata": {},
   "outputs": [],
   "source": [
    "df = pd.read_csv('pseudo_customer_data.csv')"
   ]
  },
  {
   "cell_type": "markdown",
   "metadata": {},
   "source": [
    "### Handling NA Values"
   ]
  },
  {
   "cell_type": "code",
   "execution_count": 124,
   "metadata": {},
   "outputs": [
    {
     "name": "stdout",
     "output_type": "stream",
     "text": [
      "Yup, all good no NAs in any column\n"
     ]
    }
   ],
   "source": [
    "dataset = df\n",
    "\n",
    "no_nas = True\n",
    "for col in dataset.columns:\n",
    "    if dataset[col].isnull().any():\n",
    "        print(f\"There are nulls in: {col}\")\n",
    "        no_nas = False\n",
    "\n",
    "if no_nas:\n",
    "    print(\"Yup, all good no NAs in any column\")"
   ]
  },
  {
   "cell_type": "markdown",
   "metadata": {},
   "source": [
    "### Encoding"
   ]
  },
  {
   "cell_type": "code",
   "execution_count": 125,
   "metadata": {},
   "outputs": [],
   "source": [
    "label_encoder = LabelEncoder()\n",
    "df['Gender'] = label_encoder.fit_transform(df['Gender'])"
   ]
  },
  {
   "cell_type": "code",
   "execution_count": 126,
   "metadata": {},
   "outputs": [],
   "source": [
    "df.drop(columns='CustomerID', inplace=True)"
   ]
  },
  {
   "cell_type": "code",
   "execution_count": 127,
   "metadata": {},
   "outputs": [
    {
     "data": {
      "text/html": [
       "<div>\n",
       "<style scoped>\n",
       "    .dataframe tbody tr th:only-of-type {\n",
       "        vertical-align: middle;\n",
       "    }\n",
       "\n",
       "    .dataframe tbody tr th {\n",
       "        vertical-align: top;\n",
       "    }\n",
       "\n",
       "    .dataframe thead th {\n",
       "        text-align: right;\n",
       "    }\n",
       "</style>\n",
       "<table border=\"1\" class=\"dataframe\">\n",
       "  <thead>\n",
       "    <tr style=\"text-align: right;\">\n",
       "      <th></th>\n",
       "      <th>Age</th>\n",
       "      <th>Gender</th>\n",
       "      <th>Annual Income (k$)</th>\n",
       "      <th>Spending Score (1-100)</th>\n",
       "      <th>Purchase History</th>\n",
       "      <th>Sales</th>\n",
       "    </tr>\n",
       "  </thead>\n",
       "  <tbody>\n",
       "    <tr>\n",
       "      <th>0</th>\n",
       "      <td>41</td>\n",
       "      <td>0</td>\n",
       "      <td>147</td>\n",
       "      <td>79</td>\n",
       "      <td>35</td>\n",
       "      <td>245</td>\n",
       "    </tr>\n",
       "    <tr>\n",
       "      <th>1</th>\n",
       "      <td>42</td>\n",
       "      <td>1</td>\n",
       "      <td>37</td>\n",
       "      <td>32</td>\n",
       "      <td>31</td>\n",
       "      <td>403</td>\n",
       "    </tr>\n",
       "    <tr>\n",
       "      <th>2</th>\n",
       "      <td>24</td>\n",
       "      <td>0</td>\n",
       "      <td>72</td>\n",
       "      <td>8</td>\n",
       "      <td>41</td>\n",
       "      <td>492</td>\n",
       "    </tr>\n",
       "    <tr>\n",
       "      <th>3</th>\n",
       "      <td>69</td>\n",
       "      <td>1</td>\n",
       "      <td>60</td>\n",
       "      <td>97</td>\n",
       "      <td>70</td>\n",
       "      <td>350</td>\n",
       "    </tr>\n",
       "    <tr>\n",
       "      <th>4</th>\n",
       "      <td>23</td>\n",
       "      <td>0</td>\n",
       "      <td>36</td>\n",
       "      <td>18</td>\n",
       "      <td>58</td>\n",
       "      <td>348</td>\n",
       "    </tr>\n",
       "  </tbody>\n",
       "</table>\n",
       "</div>"
      ],
      "text/plain": [
       "   Age  Gender  Annual Income (k$)  Spending Score (1-100)  Purchase History  \\\n",
       "0   41       0                 147                      79                35   \n",
       "1   42       1                  37                      32                31   \n",
       "2   24       0                  72                       8                41   \n",
       "3   69       1                  60                      97                70   \n",
       "4   23       0                  36                      18                58   \n",
       "\n",
       "   Sales  \n",
       "0    245  \n",
       "1    403  \n",
       "2    492  \n",
       "3    350  \n",
       "4    348  "
      ]
     },
     "execution_count": 127,
     "metadata": {},
     "output_type": "execute_result"
    }
   ],
   "source": [
    "df.head()"
   ]
  },
  {
   "cell_type": "markdown",
   "metadata": {},
   "source": [
    "### Scaling"
   ]
  },
  {
   "cell_type": "code",
   "execution_count": 128,
   "metadata": {},
   "outputs": [
    {
     "data": {
      "text/plain": [
       "['Age',\n",
       " 'Gender',\n",
       " 'Annual Income (k$)',\n",
       " 'Spending Score (1-100)',\n",
       " 'Purchase History',\n",
       " 'Sales']"
      ]
     },
     "execution_count": 128,
     "metadata": {},
     "output_type": "execute_result"
    }
   ],
   "source": [
    "use_cols = df.select_dtypes(include=['int64', 'float64']).columns.tolist()\n",
    "use_cols"
   ]
  },
  {
   "cell_type": "code",
   "execution_count": 129,
   "metadata": {},
   "outputs": [],
   "source": [
    "# Scaling numerical features\n",
    "scaler = StandardScaler()\n",
    "df[use_cols] = scaler.fit_transform(df[use_cols])\n"
   ]
  },
  {
   "cell_type": "code",
   "execution_count": 130,
   "metadata": {},
   "outputs": [
    {
     "data": {
      "text/html": [
       "<div>\n",
       "<style scoped>\n",
       "    .dataframe tbody tr th:only-of-type {\n",
       "        vertical-align: middle;\n",
       "    }\n",
       "\n",
       "    .dataframe tbody tr th {\n",
       "        vertical-align: top;\n",
       "    }\n",
       "\n",
       "    .dataframe thead th {\n",
       "        text-align: right;\n",
       "    }\n",
       "</style>\n",
       "<table border=\"1\" class=\"dataframe\">\n",
       "  <thead>\n",
       "    <tr style=\"text-align: right;\">\n",
       "      <th></th>\n",
       "      <th>Age</th>\n",
       "      <th>Gender</th>\n",
       "      <th>Annual Income (k$)</th>\n",
       "      <th>Spending Score (1-100)</th>\n",
       "      <th>Purchase History</th>\n",
       "      <th>Sales</th>\n",
       "    </tr>\n",
       "  </thead>\n",
       "  <tbody>\n",
       "    <tr>\n",
       "      <th>0</th>\n",
       "      <td>-0.174688</td>\n",
       "      <td>-0.988862</td>\n",
       "      <td>1.693494</td>\n",
       "      <td>1.013533</td>\n",
       "      <td>-0.615309</td>\n",
       "      <td>-0.805816</td>\n",
       "    </tr>\n",
       "    <tr>\n",
       "      <th>1</th>\n",
       "      <td>-0.107573</td>\n",
       "      <td>1.011263</td>\n",
       "      <td>-1.152045</td>\n",
       "      <td>-0.617459</td>\n",
       "      <td>-0.761304</td>\n",
       "      <td>-0.285637</td>\n",
       "    </tr>\n",
       "    <tr>\n",
       "      <th>2</th>\n",
       "      <td>-1.315653</td>\n",
       "      <td>-0.988862</td>\n",
       "      <td>-0.246646</td>\n",
       "      <td>-1.450306</td>\n",
       "      <td>-0.396317</td>\n",
       "      <td>0.007375</td>\n",
       "    </tr>\n",
       "    <tr>\n",
       "      <th>3</th>\n",
       "      <td>1.704548</td>\n",
       "      <td>1.011263</td>\n",
       "      <td>-0.557069</td>\n",
       "      <td>1.638168</td>\n",
       "      <td>0.662144</td>\n",
       "      <td>-0.460128</td>\n",
       "    </tr>\n",
       "    <tr>\n",
       "      <th>4</th>\n",
       "      <td>-1.382769</td>\n",
       "      <td>-0.988862</td>\n",
       "      <td>-1.177914</td>\n",
       "      <td>-1.103286</td>\n",
       "      <td>0.224160</td>\n",
       "      <td>-0.466712</td>\n",
       "    </tr>\n",
       "  </tbody>\n",
       "</table>\n",
       "</div>"
      ],
      "text/plain": [
       "        Age    Gender  Annual Income (k$)  Spending Score (1-100)  \\\n",
       "0 -0.174688 -0.988862            1.693494                1.013533   \n",
       "1 -0.107573  1.011263           -1.152045               -0.617459   \n",
       "2 -1.315653 -0.988862           -0.246646               -1.450306   \n",
       "3  1.704548  1.011263           -0.557069                1.638168   \n",
       "4 -1.382769 -0.988862           -1.177914               -1.103286   \n",
       "\n",
       "   Purchase History     Sales  \n",
       "0         -0.615309 -0.805816  \n",
       "1         -0.761304 -0.285637  \n",
       "2         -0.396317  0.007375  \n",
       "3          0.662144 -0.460128  \n",
       "4          0.224160 -0.466712  "
      ]
     },
     "execution_count": 130,
     "metadata": {},
     "output_type": "execute_result"
    }
   ],
   "source": [
    "df.head()"
   ]
  },
  {
   "cell_type": "code",
   "execution_count": 131,
   "metadata": {},
   "outputs": [
    {
     "name": "stdout",
     "output_type": "stream",
     "text": [
      "<class 'pandas.core.frame.DataFrame'>\n",
      "RangeIndex: 5000 entries, 0 to 4999\n",
      "Data columns (total 6 columns):\n",
      " #   Column                  Non-Null Count  Dtype  \n",
      "---  ------                  --------------  -----  \n",
      " 0   Age                     5000 non-null   float64\n",
      " 1   Gender                  5000 non-null   float64\n",
      " 2   Annual Income (k$)      5000 non-null   float64\n",
      " 3   Spending Score (1-100)  5000 non-null   float64\n",
      " 4   Purchase History        5000 non-null   float64\n",
      " 5   Sales                   5000 non-null   float64\n",
      "dtypes: float64(6)\n",
      "memory usage: 234.5 KB\n"
     ]
    }
   ],
   "source": [
    "df.info()"
   ]
  },
  {
   "cell_type": "markdown",
   "metadata": {},
   "source": [
    "# Customer Segmentation"
   ]
  },
  {
   "cell_type": "markdown",
   "metadata": {},
   "source": [
    "#### Determining optimal number of clusters"
   ]
  },
  {
   "cell_type": "code",
   "execution_count": 132,
   "metadata": {},
   "outputs": [],
   "source": [
    "wcss = []\n",
    "range_clusters = range(1, 15)  # Adjust the range of clusters as needed\n",
    "for k in range_clusters:\n",
    "    kmeans = KMeans(n_clusters=k, init='k-means++', max_iter=300, n_init=10, random_state=42)\n",
    "    kmeans.fit(df)  \n",
    "    wcss.append(kmeans.inertia_)"
   ]
  },
  {
   "cell_type": "code",
   "execution_count": 133,
   "metadata": {},
   "outputs": [
    {
     "data": {
      "image/png": "[encoded data removed]",
      "text/plain": [
       "<Figure size 1000x500 with 1 Axes>"
      ]
     },
     "metadata": {},
     "output_type": "display_data"
    }
   ],
   "source": [
    "# Plot the WCSS values\n",
    "plt.figure(figsize=(10, 5))\n",
    "plt.plot(range_clusters, wcss, marker='o', linestyle='--', color='b')\n",
    "plt.title('Elbow Method For Optimal Number of Clusters')\n",
    "plt.xlabel('Number of Clusters')\n",
    "plt.ylabel('WCSS')\n",
    "plt.xticks(range_clusters)\n",
    "plt.grid(True)\n",
    "plt.show()"
   ]
  },
  {
   "cell_type": "markdown",
   "metadata": {},
   "source": [
    "#### Training K-means"
   ]
  },
  {
   "cell_type": "code",
   "execution_count": 134,
   "metadata": {},
   "outputs": [],
   "source": [
    "clusters = 5\n",
    "kmeans = KMeans(n_clusters=clusters, init='k-means++', max_iter=300, n_init=10, random_state=42)\n",
    "clusters = kmeans.fit_predict(df)"
   ]
  },
  {
   "cell_type": "code",
   "execution_count": 135,
   "metadata": {},
   "outputs": [
    {
     "data": {
      "text/html": [
       "<style>#sk-container-id-3 {color: black;background-color: white;}#sk-container-id-3 pre{padding: 0;}#sk-container-id-3 div.sk-toggleable {background-color: white;}#sk-container-id-3 label.sk-toggleable__label {cursor: pointer;display: block;width: 100%;margin-bottom: 0;padding: 0.3em;box-sizing: border-box;text-align: center;}#sk-container-id-3 label.sk-toggleable__label-arrow:before {content: \"▸\";float: left;margin-right: 0.25em;color: #696969;}#sk-container-id-3 label.sk-toggleable__label-arrow:hover:before {color: black;}#sk-container-id-3 div.sk-estimator:hover label.sk-toggleable__label-arrow:before {color: black;}#sk-container-id-3 div.sk-toggleable__content {max-height: 0;max-width: 0;overflow: hidden;text-align: left;background-color: #f0f8ff;}#sk-container-id-3 div.sk-toggleable__content pre {margin: 0.2em;color: black;border-radius: 0.25em;background-color: #f0f8ff;}#sk-container-id-3 input.sk-toggleable__control:checked~div.sk-toggleable__content {max-height: 200px;max-width: 100%;overflow: auto;}#sk-container-id-3 input.sk-toggleable__control:checked~label.sk-toggleable__label-arrow:before {content: \"▾\";}#sk-container-id-3 div.sk-estimator input.sk-toggleable__control:checked~label.sk-toggleable__label {background-color: #d4ebff;}#sk-container-id-3 div.sk-label input.sk-toggleable__control:checked~label.sk-toggleable__label {background-color: #d4ebff;}#sk-container-id-3 input.sk-hidden--visually {border: 0;clip: rect(1px 1px 1px 1px);clip: rect(1px, 1px, 1px, 1px);height: 1px;margin: -1px;overflow: hidden;padding: 0;position: absolute;width: 1px;}#sk-container-id-3 div.sk-estimator {font-family: monospace;background-color: #f0f8ff;border: 1px dotted black;border-radius: 0.25em;box-sizing: border-box;margin-bottom: 0.5em;}#sk-container-id-3 div.sk-estimator:hover {background-color: #d4ebff;}#sk-container-id-3 div.sk-parallel-item::after {content: \"\";width: 100%;border-bottom: 1px solid gray;flex-grow: 1;}#sk-container-id-3 div.sk-label:hover label.sk-toggleable__label {background-color: #d4ebff;}#sk-container-id-3 div.sk-serial::before {content: \"\";position: absolute;border-left: 1px solid gray;box-sizing: border-box;top: 0;bottom: 0;left: 50%;z-index: 0;}#sk-container-id-3 div.sk-serial {display: flex;flex-direction: column;align-items: center;background-color: white;padding-right: 0.2em;padding-left: 0.2em;position: relative;}#sk-container-id-3 div.sk-item {position: relative;z-index: 1;}#sk-container-id-3 div.sk-parallel {display: flex;align-items: stretch;justify-content: center;background-color: white;position: relative;}#sk-container-id-3 div.sk-item::before, #sk-container-id-3 div.sk-parallel-item::before {content: \"\";position: absolute;border-left: 1px solid gray;box-sizing: border-box;top: 0;bottom: 0;left: 50%;z-index: -1;}#sk-container-id-3 div.sk-parallel-item {display: flex;flex-direction: column;z-index: 1;position: relative;background-color: white;}#sk-container-id-3 div.sk-parallel-item:first-child::after {align-self: flex-end;width: 50%;}#sk-container-id-3 div.sk-parallel-item:last-child::after {align-self: flex-start;width: 50%;}#sk-container-id-3 div.sk-parallel-item:only-child::after {width: 0;}#sk-container-id-3 div.sk-dashed-wrapped {border: 1px dashed gray;margin: 0 0.4em 0.5em 0.4em;box-sizing: border-box;padding-bottom: 0.4em;background-color: white;}#sk-container-id-3 div.sk-label label {font-family: monospace;font-weight: bold;display: inline-block;line-height: 1.2em;}#sk-container-id-3 div.sk-label-container {text-align: center;}#sk-container-id-3 div.sk-container {/* jupyter's `normalize.less` sets `[hidden] { display: none; }` but bootstrap.min.css set `[hidden] { display: none !important; }` so we also need the `!important` here to be able to override the default hidden behavior on the sphinx rendered scikit-learn.org. See: https://github.com/scikit-learn/scikit-learn/issues/21755 */display: inline-block !important;position: relative;}#sk-container-id-3 div.sk-text-repr-fallback {display: none;}</style><div id=\"sk-container-id-3\" class=\"sk-top-container\"><div class=\"sk-text-repr-fallback\"><pre>KMeans(max_iter=100, n_clusters=14, n_init=1)</pre><b>In a Jupyter environment, please rerun this cell to show the HTML representation or trust the notebook. <br />On GitHub, the HTML representation is unable to render, please try loading this page with nbviewer.org.</b></div><div class=\"sk-container\" hidden><div class=\"sk-item\"><div class=\"sk-estimator sk-toggleable\"><input class=\"sk-toggleable__control sk-hidden--visually\" id=\"sk-estimator-id-3\" type=\"checkbox\" checked><label for=\"sk-estimator-id-3\" class=\"sk-toggleable__label sk-toggleable__label-arrow\">KMeans</label><div class=\"sk-toggleable__content\"><pre>KMeans(max_iter=100, n_clusters=14, n_init=1)</pre></div></div></div></div></div>"
      ],
      "text/plain": [
       "KMeans(max_iter=100, n_clusters=14, n_init=1)"
      ]
     },
     "execution_count": 135,
     "metadata": {},
     "output_type": "execute_result"
    }
   ],
   "source": [
    "# Initialize the KMeans model with the specified parameters\n",
    "model = KMeans(n_clusters=k,       # Number of clusters to form\n",
    "                init='k-means++',   # Method for initialization (k-means++ ensures better initial centroids)\n",
    "                max_iter=100,       # Maximum number of iterations for a single run\n",
    "                n_init=1)           # Number of time the k-means algorithm will be run with different centroid seeds\n",
    "\n",
    "# Fit the KMeans model to the data\n",
    "model.fit(df)                       # X is the TF-IDF matrix or any other feature matrix"
   ]
  },
  {
   "cell_type": "markdown",
   "metadata": {},
   "source": [
    "#### Determining Scores"
   ]
  },
  {
   "cell_type": "markdown",
   "metadata": {},
   "source": [
    "#### Splitting data into training and testing"
   ]
  },
  {
   "cell_type": "code",
   "execution_count": 136,
   "metadata": {},
   "outputs": [],
   "source": [
    "X = df.drop('Sales', axis=1) \n",
    "y = df['Sales']"
   ]
  },
  {
   "cell_type": "code",
   "execution_count": 137,
   "metadata": {},
   "outputs": [],
   "source": [
    "Xtrain, Xtest, Ytrain, Ytest = train_test_split(X, y, test_size=0.2, random_state=42)"
   ]
  },
  {
   "cell_type": "markdown",
   "metadata": {},
   "source": [
    "#### Function to train and evaluate models quickly"
   ]
  },
  {
   "cell_type": "code",
   "execution_count": 138,
   "metadata": {},
   "outputs": [],
   "source": [
    "def train_and_evaluate(model_name, model, Xtrain, Ytrain, Xtest, Ytest):\n",
    "    model.fit(Xtrain, Ytrain)\n",
    "    y_pred = model.predict(Xtest)\n",
    "    mae = mean_absolute_error(Ytest, y_pred)\n",
    "    mse = mean_squared_error(Ytest, y_pred)\n",
    "    rmse = np.sqrt(mse)\n",
    "    r2 = r2_score(Ytest, y_pred)\n",
    "    print(f\"{model_name}:\")\n",
    "    print(f\"  Mean Absolute Error: {mae}\")\n",
    "    print(f\"  Mean Squared Error: {mse}\")\n",
    "    print(f\"  Root Mean Squared Error: {rmse}\")\n",
    "    print(f\"  R2 Score: {r2}\")\n",
    "    print()"
   ]
  },
  {
   "cell_type": "markdown",
   "metadata": {},
   "source": [
    "#### Initialize and evaluate Linear Regression"
   ]
  },
  {
   "cell_type": "code",
   "execution_count": 139,
   "metadata": {},
   "outputs": [
    {
     "name": "stdout",
     "output_type": "stream",
     "text": [
      "Linear Regression:\n",
      "  Mean Absolute Error: 0.4165917431833791\n",
      "  Mean Squared Error: 0.29695987410587255\n",
      "  Root Mean Squared Error: 0.5449402481977933\n",
      "  R2 Score: 0.7121475070793652\n",
      "\n"
     ]
    }
   ],
   "source": [
    "linear_regression = LinearRegression()\n",
    "train_and_evaluate(\"Linear Regression\", linear_regression, Xtrain, Ytrain, Xtest, Ytest)"
   ]
  },
  {
   "cell_type": "markdown",
   "metadata": {},
   "source": [
    "#### Initialize and evaluate Random Forest Regressor"
   ]
  },
  {
   "cell_type": "code",
   "execution_count": 140,
   "metadata": {},
   "outputs": [
    {
     "name": "stdout",
     "output_type": "stream",
     "text": [
      "Random Forest Regressor:\n",
      "  Mean Absolute Error: 0.4324824563924561\n",
      "  Mean Squared Error: 0.3375281612963213\n",
      "  Root Mean Squared Error: 0.5809717388103498\n",
      "  R2 Score: 0.6728233975967232\n",
      "\n"
     ]
    }
   ],
   "source": [
    "random_forest = RandomForestRegressor()\n",
    "train_and_evaluate(\"Random Forest Regressor\", random_forest, Xtrain, Ytrain, Xtest, Ytest)"
   ]
  },
  {
   "cell_type": "markdown",
   "metadata": {},
   "source": [
    "#### Initialize and evaluate XGBoost"
   ]
  },
  {
   "cell_type": "code",
   "execution_count": 141,
   "metadata": {},
   "outputs": [
    {
     "name": "stdout",
     "output_type": "stream",
     "text": [
      "XGB Regressor:\n",
      "  Mean Absolute Error: 0.44803150604317116\n",
      "  Mean Squared Error: 0.37117636504278356\n",
      "  Root Mean Squared Error: 0.6092424517733342\n",
      "  R2 Score: 0.6402071414109887\n",
      "\n"
     ]
    }
   ],
   "source": [
    "xgb_regressor = XGBRegressor()\n",
    "train_and_evaluate(\"XGB Regressor\", xgb_regressor, Xtrain, Ytrain, Xtest, Ytest)"
   ]
  },
  {
   "cell_type": "markdown",
   "metadata": {},
   "source": [
    "# Ensemble Learning"
   ]
  },
  {
   "cell_type": "code",
   "execution_count": 142,
   "metadata": {},
   "outputs": [],
   "source": [
    "# Initialize and evaluate Voting Regressor\n",
    "models = {\n",
    "    \"Random Forest Regressor\": RandomForestRegressor(),\n",
    "    \"XGB Regressor\": XGBRegressor()\n",
    "}"
   ]
  },
  {
   "cell_type": "code",
   "execution_count": 143,
   "metadata": {},
   "outputs": [
    {
     "name": "stdout",
     "output_type": "stream",
     "text": [
      "Voting Regressor:\n",
      "  Mean Absolute Error: 0.43222857564988887\n",
      "  Mean Squared Error: 0.3404532643077921\n",
      "  Root Mean Squared Error: 0.5834837309709604\n",
      "  R2 Score: 0.6699880037697399\n",
      "\n"
     ]
    }
   ],
   "source": [
    "voting_regressor = VotingRegressor(estimators=list(models.items()))\n",
    "train_and_evaluate(\"Voting Regressor\", voting_regressor, Xtrain, Ytrain, Xtest, Ytest)"
   ]
  },
  {
   "cell_type": "markdown",
   "metadata": {},
   "source": [
    "# Conclusion"
   ]
  },
  {
   "cell_type": "code",
   "execution_count": 150,
   "metadata": {},
   "outputs": [
    {
     "name": "stdout",
     "output_type": "stream",
     "text": [
      "\n",
      "Conclusion\n",
      "\n",
      "In this study we employed a hybrid AI Approach for customer segmentation and sales prediction through \n",
      "utilizing and integrating regressio and clustering techniques. The goal was to understand customer behaviour\n",
      "and forecast sales accurately and efficiently.\n",
      "\n",
      "Summary of Findings:\n",
      "The performance of custering was evalauted using a: \n",
      "        Silhouette Score of 0.17\n",
      "\n",
      "For the Sales Prediction, different methods were employed including Linear Regression, \n",
      "Random Forest Regressor, XGBoost Regressor and an ensemble method using a Voting Regressor.\n",
      "\n",
      "Recommendation Summary:\n",
      "Based on the data some recommendations for the team are as follow:\n",
      "        1. The team should focus in targeted marketing techniques.\n",
      "        2. TO cater for customers with lower spending scores the team should employ more \n",
      "        peersuasive marketing techniques such as door-to-door sales.\n",
      "        3. Th team should also continually train and retrain based on new data to optimize \n",
      "        performance and improve sales.\n",
      "\n",
      "Find a detailed summary of the MAE, MSE, RMSE, and R2 scores below:\n",
      "        \n"
     ]
    }
   ],
   "source": [
    "print(\"\"\"\n",
    "Conclusion\n",
    "\n",
    "In this study we employed a hybrid AI Approach for customer segmentation and sales prediction through \n",
    "utilizing and integrating regressio and clustering techniques. The goal was to understand customer behaviour\n",
    "and forecast sales accurately and efficiently.\n",
    "\n",
    "Summary of Findings:\n",
    "The performance of custering was evalauted using a: \n",
    "        Silhouette Score of 0.17\n",
    "\n",
    "For the Sales Prediction, different methods were employed including Linear Regression, \n",
    "Random Forest Regressor, XGBoost Regressor and an ensemble method using a Voting Regressor.\n",
    "\n",
    "Recommendation Summary:\n",
    "Based on the data some recommendations for the team are as follow:\n",
    "        1. The team should focus in targeted marketing techniques.\n",
    "        2. TO cater for customers with lower spending scores the team should employ more \n",
    "        peersuasive marketing techniques such as door-to-door sales.\n",
    "        3. Th team should also continually train and retrain based on new data to optimize \n",
    "        performance and improve sales.\n",
    "\n",
    "Find a detailed summary of the MAE, MSE, RMSE, and R2 scores below:\n",
    "        \"\"\")"
   ]
  },
  {
   "cell_type": "markdown",
   "metadata": {},
   "source": [
    "#### Summary of findings"
   ]
  },
  {
   "cell_type": "code",
   "execution_count": 145,
   "metadata": {},
   "outputs": [
    {
     "name": "stdout",
     "output_type": "stream",
     "text": [
      "\n",
      "Summary of Findings:\n",
      "MAE, MSE, RMSE, R2 for: \n",
      "Linear Regression:\n",
      "  Mean Absolute Error: 0.4165917431833791\n",
      "  Mean Squared Error: 0.29695987410587255\n",
      "  Root Mean Squared Error: 0.5449402481977933\n",
      "  R2 Score: 0.7121475070793652\n",
      "\n",
      "MAE, MSE, RMSE, R2 for: \n",
      "Random Forest Regressor:\n",
      "  Mean Absolute Error: 0.43334101578973167\n",
      "  Mean Squared Error: 0.3366421612296665\n",
      "  Root Mean Squared Error: 0.5802087221247768\n",
      "  R2 Score: 0.6736822251695807\n",
      "\n"
     ]
    }
   ],
   "source": [
    "print(\"\\nSummary of Findings:\")\n",
    "print(f\"MAE, MSE, RMSE, R2 for: \")\n",
    "train_and_evaluate(\"Linear Regression\", linear_regression, Xtrain, Ytrain, Xtest, Ytest)\n",
    "\n",
    "print(f\"MAE, MSE, RMSE, R2 for: \")\n",
    "train_and_evaluate(\"Random Forest Regressor\", random_forest, Xtrain, Ytrain, Xtest, Ytest)"
   ]
  },
  {
   "cell_type": "code",
   "execution_count": 146,
   "metadata": {},
   "outputs": [
    {
     "name": "stdout",
     "output_type": "stream",
     "text": [
      "MAE, MSE, RMSE, R2 for: \n",
      "XGB Regressor:\n",
      "  Mean Absolute Error: 0.44803150604317116\n",
      "  Mean Squared Error: 0.37117636504278356\n",
      "  Root Mean Squared Error: 0.6092424517733342\n",
      "  R2 Score: 0.6402071414109887\n",
      "\n",
      "MAE, MSE, RMSE, R2 for: \n",
      "Voting Regressor:\n",
      "  Mean Absolute Error: 0.4326236613824234\n",
      "  Mean Squared Error: 0.3400801349399611\n",
      "  Root Mean Squared Error: 0.5831639005802409\n",
      "  R2 Score: 0.6703496897350085\n",
      "\n"
     ]
    }
   ],
   "source": [
    "print(f\"MAE, MSE, RMSE, R2 for: \")\n",
    "train_and_evaluate(\"XGB Regressor\", xgb_regressor, Xtrain, Ytrain, Xtest, Ytest)\n",
    "\n",
    "print(f\"MAE, MSE, RMSE, R2 for: \")\n",
    "train_and_evaluate(\"Voting Regressor\", voting_regressor, Xtrain, Ytrain, Xtest, Ytest)"
   ]
  }
 ],
 "metadata": {
  "kernelspec": {
   "display_name": "Python 3 (ipykernel)",
   "language": "python",
   "name": "python3"
  },
  "language_info": {
   "codemirror_mode": {
    "name": "ipython",
    "version": 3
   },
   "file_extension": ".py",
   "mimetype": "text/x-python",
   "name": "python",
   "nbconvert_exporter": "python",
   "pygments_lexer": "ipython3",
   "version": "3.10.9"
  }
 },
 "nbformat": 4,
 "nbformat_minor": 2
}
